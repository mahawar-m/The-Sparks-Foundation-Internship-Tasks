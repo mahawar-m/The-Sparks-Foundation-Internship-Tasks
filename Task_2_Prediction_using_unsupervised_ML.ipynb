{
 "cells": [
  {
   "cell_type": "markdown",
   "id": "a8538a57",
   "metadata": {},
   "source": [
    "#  The Sparks Foundation\n",
    "#### Data Science and Business Analytics (GRIP JULY'22)"
   ]
  },
  {
   "cell_type": "markdown",
   "id": "5416dc2e",
   "metadata": {},
   "source": [
    "##  Task 2: Prediction using Unsupervised ML"
   ]
  },
  {
   "cell_type": "markdown",
   "id": "12b267cc",
   "metadata": {},
   "source": [
    "### Problem Statement"
   ]
  },
  {
   "cell_type": "markdown",
   "id": "c9e83e88",
   "metadata": {},
   "source": [
    "* From the given 'Iris' dataset, print the optimum number of clusters and represent it visually."
   ]
  },
  {
   "cell_type": "markdown",
   "id": "3d578ddd",
   "metadata": {},
   "source": [
    "#### Author: Mukul Mahawar"
   ]
  },
  {
   "cell_type": "markdown",
   "id": "588875c5",
   "metadata": {},
   "source": [
    "*****"
   ]
  },
  {
   "cell_type": "markdown",
   "id": "3082a329",
   "metadata": {},
   "source": [
    "#### Importing all libraries required in this notebook"
   ]
  },
  {
   "cell_type": "code",
   "execution_count": 1,
   "id": "7fb20ae9",
   "metadata": {},
   "outputs": [],
   "source": [
    "import pandas as pd\n",
    "import numpy as np\n",
    "\n",
    "import matplotlib.pyplot as plt\n",
    "import seaborn as sns\n",
    "%matplotlib inline\n",
    "\n",
    "import warnings\n",
    "warnings.filterwarnings(\"ignore\")"
   ]
  },
  {
   "cell_type": "markdown",
   "id": "debed8f0",
   "metadata": {},
   "source": [
    "####  Dataset needed  : https://bit.ly/3kXTdox"
   ]
  },
  {
   "cell_type": "markdown",
   "id": "4dbe87fb",
   "metadata": {},
   "source": [
    "Reading dataset "
   ]
  },
  {
   "cell_type": "code",
   "execution_count": 2,
   "id": "978288db",
   "metadata": {},
   "outputs": [
    {
     "data": {
      "text/html": [
       "<div>\n",
       "<style scoped>\n",
       "    .dataframe tbody tr th:only-of-type {\n",
       "        vertical-align: middle;\n",
       "    }\n",
       "\n",
       "    .dataframe tbody tr th {\n",
       "        vertical-align: top;\n",
       "    }\n",
       "\n",
       "    .dataframe thead th {\n",
       "        text-align: right;\n",
       "    }\n",
       "</style>\n",
       "<table border=\"1\" class=\"dataframe\">\n",
       "  <thead>\n",
       "    <tr style=\"text-align: right;\">\n",
       "      <th></th>\n",
       "      <th>Id</th>\n",
       "      <th>SepalLengthCm</th>\n",
       "      <th>SepalWidthCm</th>\n",
       "      <th>PetalLengthCm</th>\n",
       "      <th>PetalWidthCm</th>\n",
       "      <th>Species</th>\n",
       "    </tr>\n",
       "  </thead>\n",
       "  <tbody>\n",
       "    <tr>\n",
       "      <th>0</th>\n",
       "      <td>1</td>\n",
       "      <td>5.1</td>\n",
       "      <td>3.5</td>\n",
       "      <td>1.4</td>\n",
       "      <td>0.2</td>\n",
       "      <td>Iris-setosa</td>\n",
       "    </tr>\n",
       "    <tr>\n",
       "      <th>1</th>\n",
       "      <td>2</td>\n",
       "      <td>4.9</td>\n",
       "      <td>3.0</td>\n",
       "      <td>1.4</td>\n",
       "      <td>0.2</td>\n",
       "      <td>Iris-setosa</td>\n",
       "    </tr>\n",
       "    <tr>\n",
       "      <th>2</th>\n",
       "      <td>3</td>\n",
       "      <td>4.7</td>\n",
       "      <td>3.2</td>\n",
       "      <td>1.3</td>\n",
       "      <td>0.2</td>\n",
       "      <td>Iris-setosa</td>\n",
       "    </tr>\n",
       "    <tr>\n",
       "      <th>3</th>\n",
       "      <td>4</td>\n",
       "      <td>4.6</td>\n",
       "      <td>3.1</td>\n",
       "      <td>1.5</td>\n",
       "      <td>0.2</td>\n",
       "      <td>Iris-setosa</td>\n",
       "    </tr>\n",
       "    <tr>\n",
       "      <th>4</th>\n",
       "      <td>5</td>\n",
       "      <td>5.0</td>\n",
       "      <td>3.6</td>\n",
       "      <td>1.4</td>\n",
       "      <td>0.2</td>\n",
       "      <td>Iris-setosa</td>\n",
       "    </tr>\n",
       "    <tr>\n",
       "      <th>...</th>\n",
       "      <td>...</td>\n",
       "      <td>...</td>\n",
       "      <td>...</td>\n",
       "      <td>...</td>\n",
       "      <td>...</td>\n",
       "      <td>...</td>\n",
       "    </tr>\n",
       "    <tr>\n",
       "      <th>145</th>\n",
       "      <td>146</td>\n",
       "      <td>6.7</td>\n",
       "      <td>3.0</td>\n",
       "      <td>5.2</td>\n",
       "      <td>2.3</td>\n",
       "      <td>Iris-virginica</td>\n",
       "    </tr>\n",
       "    <tr>\n",
       "      <th>146</th>\n",
       "      <td>147</td>\n",
       "      <td>6.3</td>\n",
       "      <td>2.5</td>\n",
       "      <td>5.0</td>\n",
       "      <td>1.9</td>\n",
       "      <td>Iris-virginica</td>\n",
       "    </tr>\n",
       "    <tr>\n",
       "      <th>147</th>\n",
       "      <td>148</td>\n",
       "      <td>6.5</td>\n",
       "      <td>3.0</td>\n",
       "      <td>5.2</td>\n",
       "      <td>2.0</td>\n",
       "      <td>Iris-virginica</td>\n",
       "    </tr>\n",
       "    <tr>\n",
       "      <th>148</th>\n",
       "      <td>149</td>\n",
       "      <td>6.2</td>\n",
       "      <td>3.4</td>\n",
       "      <td>5.4</td>\n",
       "      <td>2.3</td>\n",
       "      <td>Iris-virginica</td>\n",
       "    </tr>\n",
       "    <tr>\n",
       "      <th>149</th>\n",
       "      <td>150</td>\n",
       "      <td>5.9</td>\n",
       "      <td>3.0</td>\n",
       "      <td>5.1</td>\n",
       "      <td>1.8</td>\n",
       "      <td>Iris-virginica</td>\n",
       "    </tr>\n",
       "  </tbody>\n",
       "</table>\n",
       "<p>150 rows × 6 columns</p>\n",
       "</div>"
      ],
      "text/plain": [
       "      Id  SepalLengthCm  SepalWidthCm  PetalLengthCm  PetalWidthCm  \\\n",
       "0      1            5.1           3.5            1.4           0.2   \n",
       "1      2            4.9           3.0            1.4           0.2   \n",
       "2      3            4.7           3.2            1.3           0.2   \n",
       "3      4            4.6           3.1            1.5           0.2   \n",
       "4      5            5.0           3.6            1.4           0.2   \n",
       "..   ...            ...           ...            ...           ...   \n",
       "145  146            6.7           3.0            5.2           2.3   \n",
       "146  147            6.3           2.5            5.0           1.9   \n",
       "147  148            6.5           3.0            5.2           2.0   \n",
       "148  149            6.2           3.4            5.4           2.3   \n",
       "149  150            5.9           3.0            5.1           1.8   \n",
       "\n",
       "            Species  \n",
       "0       Iris-setosa  \n",
       "1       Iris-setosa  \n",
       "2       Iris-setosa  \n",
       "3       Iris-setosa  \n",
       "4       Iris-setosa  \n",
       "..              ...  \n",
       "145  Iris-virginica  \n",
       "146  Iris-virginica  \n",
       "147  Iris-virginica  \n",
       "148  Iris-virginica  \n",
       "149  Iris-virginica  \n",
       "\n",
       "[150 rows x 6 columns]"
      ]
     },
     "execution_count": 2,
     "metadata": {},
     "output_type": "execute_result"
    }
   ],
   "source": [
    "df = pd.read_csv('Iris.csv')\n",
    "df"
   ]
  },
  {
   "cell_type": "markdown",
   "id": "0d9cdbc8",
   "metadata": {},
   "source": [
    "### Data Understanding"
   ]
  },
  {
   "cell_type": "code",
   "execution_count": 3,
   "id": "810d5465",
   "metadata": {},
   "outputs": [
    {
     "data": {
      "text/plain": [
       "(150, 6)"
      ]
     },
     "execution_count": 3,
     "metadata": {},
     "output_type": "execute_result"
    }
   ],
   "source": [
    "df.shape"
   ]
  },
  {
   "cell_type": "code",
   "execution_count": 4,
   "id": "342a4991",
   "metadata": {},
   "outputs": [
    {
     "data": {
      "text/html": [
       "<div>\n",
       "<style scoped>\n",
       "    .dataframe tbody tr th:only-of-type {\n",
       "        vertical-align: middle;\n",
       "    }\n",
       "\n",
       "    .dataframe tbody tr th {\n",
       "        vertical-align: top;\n",
       "    }\n",
       "\n",
       "    .dataframe thead th {\n",
       "        text-align: right;\n",
       "    }\n",
       "</style>\n",
       "<table border=\"1\" class=\"dataframe\">\n",
       "  <thead>\n",
       "    <tr style=\"text-align: right;\">\n",
       "      <th></th>\n",
       "      <th>Id</th>\n",
       "      <th>SepalLengthCm</th>\n",
       "      <th>SepalWidthCm</th>\n",
       "      <th>PetalLengthCm</th>\n",
       "      <th>PetalWidthCm</th>\n",
       "      <th>Species</th>\n",
       "    </tr>\n",
       "  </thead>\n",
       "  <tbody>\n",
       "    <tr>\n",
       "      <th>0</th>\n",
       "      <td>1</td>\n",
       "      <td>5.1</td>\n",
       "      <td>3.5</td>\n",
       "      <td>1.4</td>\n",
       "      <td>0.2</td>\n",
       "      <td>Iris-setosa</td>\n",
       "    </tr>\n",
       "    <tr>\n",
       "      <th>1</th>\n",
       "      <td>2</td>\n",
       "      <td>4.9</td>\n",
       "      <td>3.0</td>\n",
       "      <td>1.4</td>\n",
       "      <td>0.2</td>\n",
       "      <td>Iris-setosa</td>\n",
       "    </tr>\n",
       "    <tr>\n",
       "      <th>2</th>\n",
       "      <td>3</td>\n",
       "      <td>4.7</td>\n",
       "      <td>3.2</td>\n",
       "      <td>1.3</td>\n",
       "      <td>0.2</td>\n",
       "      <td>Iris-setosa</td>\n",
       "    </tr>\n",
       "    <tr>\n",
       "      <th>3</th>\n",
       "      <td>4</td>\n",
       "      <td>4.6</td>\n",
       "      <td>3.1</td>\n",
       "      <td>1.5</td>\n",
       "      <td>0.2</td>\n",
       "      <td>Iris-setosa</td>\n",
       "    </tr>\n",
       "    <tr>\n",
       "      <th>4</th>\n",
       "      <td>5</td>\n",
       "      <td>5.0</td>\n",
       "      <td>3.6</td>\n",
       "      <td>1.4</td>\n",
       "      <td>0.2</td>\n",
       "      <td>Iris-setosa</td>\n",
       "    </tr>\n",
       "  </tbody>\n",
       "</table>\n",
       "</div>"
      ],
      "text/plain": [
       "   Id  SepalLengthCm  SepalWidthCm  PetalLengthCm  PetalWidthCm      Species\n",
       "0   1            5.1           3.5            1.4           0.2  Iris-setosa\n",
       "1   2            4.9           3.0            1.4           0.2  Iris-setosa\n",
       "2   3            4.7           3.2            1.3           0.2  Iris-setosa\n",
       "3   4            4.6           3.1            1.5           0.2  Iris-setosa\n",
       "4   5            5.0           3.6            1.4           0.2  Iris-setosa"
      ]
     },
     "execution_count": 4,
     "metadata": {},
     "output_type": "execute_result"
    }
   ],
   "source": [
    "df.head()"
   ]
  },
  {
   "cell_type": "code",
   "execution_count": 5,
   "id": "8cd99309",
   "metadata": {},
   "outputs": [
    {
     "name": "stdout",
     "output_type": "stream",
     "text": [
      "<class 'pandas.core.frame.DataFrame'>\n",
      "RangeIndex: 150 entries, 0 to 149\n",
      "Data columns (total 6 columns):\n",
      " #   Column         Non-Null Count  Dtype  \n",
      "---  ------         --------------  -----  \n",
      " 0   Id             150 non-null    int64  \n",
      " 1   SepalLengthCm  150 non-null    float64\n",
      " 2   SepalWidthCm   150 non-null    float64\n",
      " 3   PetalLengthCm  150 non-null    float64\n",
      " 4   PetalWidthCm   150 non-null    float64\n",
      " 5   Species        150 non-null    object \n",
      "dtypes: float64(4), int64(1), object(1)\n",
      "memory usage: 7.2+ KB\n"
     ]
    }
   ],
   "source": [
    "df.info()"
   ]
  },
  {
   "cell_type": "code",
   "execution_count": 6,
   "id": "4dee1884",
   "metadata": {},
   "outputs": [
    {
     "data": {
      "text/plain": [
       "Id                 int64\n",
       "SepalLengthCm    float64\n",
       "SepalWidthCm     float64\n",
       "PetalLengthCm    float64\n",
       "PetalWidthCm     float64\n",
       "Species           object\n",
       "dtype: object"
      ]
     },
     "execution_count": 6,
     "metadata": {},
     "output_type": "execute_result"
    }
   ],
   "source": [
    "df.dtypes"
   ]
  },
  {
   "cell_type": "code",
   "execution_count": 7,
   "id": "f2471ba7",
   "metadata": {},
   "outputs": [
    {
     "data": {
      "text/html": [
       "<div>\n",
       "<style scoped>\n",
       "    .dataframe tbody tr th:only-of-type {\n",
       "        vertical-align: middle;\n",
       "    }\n",
       "\n",
       "    .dataframe tbody tr th {\n",
       "        vertical-align: top;\n",
       "    }\n",
       "\n",
       "    .dataframe thead th {\n",
       "        text-align: right;\n",
       "    }\n",
       "</style>\n",
       "<table border=\"1\" class=\"dataframe\">\n",
       "  <thead>\n",
       "    <tr style=\"text-align: right;\">\n",
       "      <th></th>\n",
       "      <th>Id</th>\n",
       "      <th>SepalLengthCm</th>\n",
       "      <th>SepalWidthCm</th>\n",
       "      <th>PetalLengthCm</th>\n",
       "      <th>PetalWidthCm</th>\n",
       "    </tr>\n",
       "  </thead>\n",
       "  <tbody>\n",
       "    <tr>\n",
       "      <th>count</th>\n",
       "      <td>150.000000</td>\n",
       "      <td>150.000000</td>\n",
       "      <td>150.000000</td>\n",
       "      <td>150.000000</td>\n",
       "      <td>150.000000</td>\n",
       "    </tr>\n",
       "    <tr>\n",
       "      <th>mean</th>\n",
       "      <td>75.500000</td>\n",
       "      <td>5.843333</td>\n",
       "      <td>3.054000</td>\n",
       "      <td>3.758667</td>\n",
       "      <td>1.198667</td>\n",
       "    </tr>\n",
       "    <tr>\n",
       "      <th>std</th>\n",
       "      <td>43.445368</td>\n",
       "      <td>0.828066</td>\n",
       "      <td>0.433594</td>\n",
       "      <td>1.764420</td>\n",
       "      <td>0.763161</td>\n",
       "    </tr>\n",
       "    <tr>\n",
       "      <th>min</th>\n",
       "      <td>1.000000</td>\n",
       "      <td>4.300000</td>\n",
       "      <td>2.000000</td>\n",
       "      <td>1.000000</td>\n",
       "      <td>0.100000</td>\n",
       "    </tr>\n",
       "    <tr>\n",
       "      <th>25%</th>\n",
       "      <td>38.250000</td>\n",
       "      <td>5.100000</td>\n",
       "      <td>2.800000</td>\n",
       "      <td>1.600000</td>\n",
       "      <td>0.300000</td>\n",
       "    </tr>\n",
       "    <tr>\n",
       "      <th>50%</th>\n",
       "      <td>75.500000</td>\n",
       "      <td>5.800000</td>\n",
       "      <td>3.000000</td>\n",
       "      <td>4.350000</td>\n",
       "      <td>1.300000</td>\n",
       "    </tr>\n",
       "    <tr>\n",
       "      <th>75%</th>\n",
       "      <td>112.750000</td>\n",
       "      <td>6.400000</td>\n",
       "      <td>3.300000</td>\n",
       "      <td>5.100000</td>\n",
       "      <td>1.800000</td>\n",
       "    </tr>\n",
       "    <tr>\n",
       "      <th>max</th>\n",
       "      <td>150.000000</td>\n",
       "      <td>7.900000</td>\n",
       "      <td>4.400000</td>\n",
       "      <td>6.900000</td>\n",
       "      <td>2.500000</td>\n",
       "    </tr>\n",
       "  </tbody>\n",
       "</table>\n",
       "</div>"
      ],
      "text/plain": [
       "               Id  SepalLengthCm  SepalWidthCm  PetalLengthCm  PetalWidthCm\n",
       "count  150.000000     150.000000    150.000000     150.000000    150.000000\n",
       "mean    75.500000       5.843333      3.054000       3.758667      1.198667\n",
       "std     43.445368       0.828066      0.433594       1.764420      0.763161\n",
       "min      1.000000       4.300000      2.000000       1.000000      0.100000\n",
       "25%     38.250000       5.100000      2.800000       1.600000      0.300000\n",
       "50%     75.500000       5.800000      3.000000       4.350000      1.300000\n",
       "75%    112.750000       6.400000      3.300000       5.100000      1.800000\n",
       "max    150.000000       7.900000      4.400000       6.900000      2.500000"
      ]
     },
     "execution_count": 7,
     "metadata": {},
     "output_type": "execute_result"
    }
   ],
   "source": [
    "df.describe()"
   ]
  },
  {
   "cell_type": "code",
   "execution_count": 8,
   "id": "a8540ea4",
   "metadata": {},
   "outputs": [
    {
     "data": {
      "text/html": [
       "<div>\n",
       "<style scoped>\n",
       "    .dataframe tbody tr th:only-of-type {\n",
       "        vertical-align: middle;\n",
       "    }\n",
       "\n",
       "    .dataframe tbody tr th {\n",
       "        vertical-align: top;\n",
       "    }\n",
       "\n",
       "    .dataframe thead th {\n",
       "        text-align: right;\n",
       "    }\n",
       "</style>\n",
       "<table border=\"1\" class=\"dataframe\">\n",
       "  <thead>\n",
       "    <tr style=\"text-align: right;\">\n",
       "      <th></th>\n",
       "      <th>Id</th>\n",
       "      <th>SepalLengthCm</th>\n",
       "      <th>SepalWidthCm</th>\n",
       "      <th>PetalLengthCm</th>\n",
       "      <th>PetalWidthCm</th>\n",
       "      <th>Species</th>\n",
       "    </tr>\n",
       "  </thead>\n",
       "  <tbody>\n",
       "    <tr>\n",
       "      <th>0</th>\n",
       "      <td>False</td>\n",
       "      <td>False</td>\n",
       "      <td>False</td>\n",
       "      <td>False</td>\n",
       "      <td>False</td>\n",
       "      <td>False</td>\n",
       "    </tr>\n",
       "    <tr>\n",
       "      <th>1</th>\n",
       "      <td>False</td>\n",
       "      <td>False</td>\n",
       "      <td>False</td>\n",
       "      <td>False</td>\n",
       "      <td>False</td>\n",
       "      <td>False</td>\n",
       "    </tr>\n",
       "    <tr>\n",
       "      <th>2</th>\n",
       "      <td>False</td>\n",
       "      <td>False</td>\n",
       "      <td>False</td>\n",
       "      <td>False</td>\n",
       "      <td>False</td>\n",
       "      <td>False</td>\n",
       "    </tr>\n",
       "    <tr>\n",
       "      <th>3</th>\n",
       "      <td>False</td>\n",
       "      <td>False</td>\n",
       "      <td>False</td>\n",
       "      <td>False</td>\n",
       "      <td>False</td>\n",
       "      <td>False</td>\n",
       "    </tr>\n",
       "    <tr>\n",
       "      <th>4</th>\n",
       "      <td>False</td>\n",
       "      <td>False</td>\n",
       "      <td>False</td>\n",
       "      <td>False</td>\n",
       "      <td>False</td>\n",
       "      <td>False</td>\n",
       "    </tr>\n",
       "    <tr>\n",
       "      <th>...</th>\n",
       "      <td>...</td>\n",
       "      <td>...</td>\n",
       "      <td>...</td>\n",
       "      <td>...</td>\n",
       "      <td>...</td>\n",
       "      <td>...</td>\n",
       "    </tr>\n",
       "    <tr>\n",
       "      <th>145</th>\n",
       "      <td>False</td>\n",
       "      <td>False</td>\n",
       "      <td>False</td>\n",
       "      <td>False</td>\n",
       "      <td>False</td>\n",
       "      <td>False</td>\n",
       "    </tr>\n",
       "    <tr>\n",
       "      <th>146</th>\n",
       "      <td>False</td>\n",
       "      <td>False</td>\n",
       "      <td>False</td>\n",
       "      <td>False</td>\n",
       "      <td>False</td>\n",
       "      <td>False</td>\n",
       "    </tr>\n",
       "    <tr>\n",
       "      <th>147</th>\n",
       "      <td>False</td>\n",
       "      <td>False</td>\n",
       "      <td>False</td>\n",
       "      <td>False</td>\n",
       "      <td>False</td>\n",
       "      <td>False</td>\n",
       "    </tr>\n",
       "    <tr>\n",
       "      <th>148</th>\n",
       "      <td>False</td>\n",
       "      <td>False</td>\n",
       "      <td>False</td>\n",
       "      <td>False</td>\n",
       "      <td>False</td>\n",
       "      <td>False</td>\n",
       "    </tr>\n",
       "    <tr>\n",
       "      <th>149</th>\n",
       "      <td>False</td>\n",
       "      <td>False</td>\n",
       "      <td>False</td>\n",
       "      <td>False</td>\n",
       "      <td>False</td>\n",
       "      <td>False</td>\n",
       "    </tr>\n",
       "  </tbody>\n",
       "</table>\n",
       "<p>150 rows × 6 columns</p>\n",
       "</div>"
      ],
      "text/plain": [
       "        Id  SepalLengthCm  SepalWidthCm  PetalLengthCm  PetalWidthCm  Species\n",
       "0    False          False         False          False         False    False\n",
       "1    False          False         False          False         False    False\n",
       "2    False          False         False          False         False    False\n",
       "3    False          False         False          False         False    False\n",
       "4    False          False         False          False         False    False\n",
       "..     ...            ...           ...            ...           ...      ...\n",
       "145  False          False         False          False         False    False\n",
       "146  False          False         False          False         False    False\n",
       "147  False          False         False          False         False    False\n",
       "148  False          False         False          False         False    False\n",
       "149  False          False         False          False         False    False\n",
       "\n",
       "[150 rows x 6 columns]"
      ]
     },
     "execution_count": 8,
     "metadata": {},
     "output_type": "execute_result"
    }
   ],
   "source": [
    "df.isnull()"
   ]
  },
  {
   "cell_type": "code",
   "execution_count": 9,
   "id": "8d16ff08",
   "metadata": {},
   "outputs": [
    {
     "data": {
      "text/plain": [
       "Id               0\n",
       "SepalLengthCm    0\n",
       "SepalWidthCm     0\n",
       "PetalLengthCm    0\n",
       "PetalWidthCm     0\n",
       "Species          0\n",
       "dtype: int64"
      ]
     },
     "execution_count": 9,
     "metadata": {},
     "output_type": "execute_result"
    }
   ],
   "source": [
    "df.isnull().sum()"
   ]
  },
  {
   "cell_type": "markdown",
   "id": "766b68a0",
   "metadata": {},
   "source": [
    "No null values are  present in the 'Iris' dataset."
   ]
  },
  {
   "cell_type": "code",
   "execution_count": 11,
   "id": "cd5690ef",
   "metadata": {},
   "outputs": [
    {
     "name": "stdout",
     "output_type": "stream",
     "text": [
      "Number of duplicate rows:  0\n"
     ]
    }
   ],
   "source": [
    "print('Number of duplicate rows: ' , df.duplicated().sum())          # check for duplicates"
   ]
  },
  {
   "cell_type": "markdown",
   "id": "f40be78c",
   "metadata": {},
   "source": [
    "### Convert categorical feature into numerical using label encoding"
   ]
  },
  {
   "cell_type": "code",
   "execution_count": 12,
   "id": "ddccf204",
   "metadata": {},
   "outputs": [],
   "source": [
    "from sklearn import preprocessing\n",
    "from sklearn.preprocessing import LabelEncoder"
   ]
  },
  {
   "cell_type": "code",
   "execution_count": 13,
   "id": "619900ef",
   "metadata": {},
   "outputs": [
    {
     "data": {
      "text/html": [
       "<div>\n",
       "<style scoped>\n",
       "    .dataframe tbody tr th:only-of-type {\n",
       "        vertical-align: middle;\n",
       "    }\n",
       "\n",
       "    .dataframe tbody tr th {\n",
       "        vertical-align: top;\n",
       "    }\n",
       "\n",
       "    .dataframe thead th {\n",
       "        text-align: right;\n",
       "    }\n",
       "</style>\n",
       "<table border=\"1\" class=\"dataframe\">\n",
       "  <thead>\n",
       "    <tr style=\"text-align: right;\">\n",
       "      <th></th>\n",
       "      <th>Id</th>\n",
       "      <th>SepalLengthCm</th>\n",
       "      <th>SepalWidthCm</th>\n",
       "      <th>PetalLengthCm</th>\n",
       "      <th>PetalWidthCm</th>\n",
       "      <th>Species</th>\n",
       "    </tr>\n",
       "  </thead>\n",
       "  <tbody>\n",
       "    <tr>\n",
       "      <th>0</th>\n",
       "      <td>1</td>\n",
       "      <td>5.1</td>\n",
       "      <td>3.5</td>\n",
       "      <td>1.4</td>\n",
       "      <td>0.2</td>\n",
       "      <td>0</td>\n",
       "    </tr>\n",
       "    <tr>\n",
       "      <th>1</th>\n",
       "      <td>2</td>\n",
       "      <td>4.9</td>\n",
       "      <td>3.0</td>\n",
       "      <td>1.4</td>\n",
       "      <td>0.2</td>\n",
       "      <td>0</td>\n",
       "    </tr>\n",
       "    <tr>\n",
       "      <th>2</th>\n",
       "      <td>3</td>\n",
       "      <td>4.7</td>\n",
       "      <td>3.2</td>\n",
       "      <td>1.3</td>\n",
       "      <td>0.2</td>\n",
       "      <td>0</td>\n",
       "    </tr>\n",
       "    <tr>\n",
       "      <th>3</th>\n",
       "      <td>4</td>\n",
       "      <td>4.6</td>\n",
       "      <td>3.1</td>\n",
       "      <td>1.5</td>\n",
       "      <td>0.2</td>\n",
       "      <td>0</td>\n",
       "    </tr>\n",
       "    <tr>\n",
       "      <th>4</th>\n",
       "      <td>5</td>\n",
       "      <td>5.0</td>\n",
       "      <td>3.6</td>\n",
       "      <td>1.4</td>\n",
       "      <td>0.2</td>\n",
       "      <td>0</td>\n",
       "    </tr>\n",
       "    <tr>\n",
       "      <th>...</th>\n",
       "      <td>...</td>\n",
       "      <td>...</td>\n",
       "      <td>...</td>\n",
       "      <td>...</td>\n",
       "      <td>...</td>\n",
       "      <td>...</td>\n",
       "    </tr>\n",
       "    <tr>\n",
       "      <th>145</th>\n",
       "      <td>146</td>\n",
       "      <td>6.7</td>\n",
       "      <td>3.0</td>\n",
       "      <td>5.2</td>\n",
       "      <td>2.3</td>\n",
       "      <td>2</td>\n",
       "    </tr>\n",
       "    <tr>\n",
       "      <th>146</th>\n",
       "      <td>147</td>\n",
       "      <td>6.3</td>\n",
       "      <td>2.5</td>\n",
       "      <td>5.0</td>\n",
       "      <td>1.9</td>\n",
       "      <td>2</td>\n",
       "    </tr>\n",
       "    <tr>\n",
       "      <th>147</th>\n",
       "      <td>148</td>\n",
       "      <td>6.5</td>\n",
       "      <td>3.0</td>\n",
       "      <td>5.2</td>\n",
       "      <td>2.0</td>\n",
       "      <td>2</td>\n",
       "    </tr>\n",
       "    <tr>\n",
       "      <th>148</th>\n",
       "      <td>149</td>\n",
       "      <td>6.2</td>\n",
       "      <td>3.4</td>\n",
       "      <td>5.4</td>\n",
       "      <td>2.3</td>\n",
       "      <td>2</td>\n",
       "    </tr>\n",
       "    <tr>\n",
       "      <th>149</th>\n",
       "      <td>150</td>\n",
       "      <td>5.9</td>\n",
       "      <td>3.0</td>\n",
       "      <td>5.1</td>\n",
       "      <td>1.8</td>\n",
       "      <td>2</td>\n",
       "    </tr>\n",
       "  </tbody>\n",
       "</table>\n",
       "<p>150 rows × 6 columns</p>\n",
       "</div>"
      ],
      "text/plain": [
       "      Id  SepalLengthCm  SepalWidthCm  PetalLengthCm  PetalWidthCm  Species\n",
       "0      1            5.1           3.5            1.4           0.2        0\n",
       "1      2            4.9           3.0            1.4           0.2        0\n",
       "2      3            4.7           3.2            1.3           0.2        0\n",
       "3      4            4.6           3.1            1.5           0.2        0\n",
       "4      5            5.0           3.6            1.4           0.2        0\n",
       "..   ...            ...           ...            ...           ...      ...\n",
       "145  146            6.7           3.0            5.2           2.3        2\n",
       "146  147            6.3           2.5            5.0           1.9        2\n",
       "147  148            6.5           3.0            5.2           2.0        2\n",
       "148  149            6.2           3.4            5.4           2.3        2\n",
       "149  150            5.9           3.0            5.1           1.8        2\n",
       "\n",
       "[150 rows x 6 columns]"
      ]
     },
     "execution_count": 13,
     "metadata": {},
     "output_type": "execute_result"
    }
   ],
   "source": [
    "LabelEncoder = preprocessing.LabelEncoder()\n",
    "df['Species'] = LabelEncoder.fit_transform(df['Species'])\n",
    "df"
   ]
  },
  {
   "cell_type": "code",
   "execution_count": 14,
   "id": "fa130bfe",
   "metadata": {},
   "outputs": [
    {
     "data": {
      "image/png": "[encoded data removed]",
      "text/plain": [
       "<Figure size 432x216 with 1 Axes>"
      ]
     },
     "metadata": {
      "needs_background": "light"
     },
     "output_type": "display_data"
    },
    {
     "data": {
      "image/png": "[encoded data removed]",
      "text/plain": [
       "<Figure size 432x216 with 1 Axes>"
      ]
     },
     "metadata": {
      "needs_background": "light"
     },
     "output_type": "display_data"
    },
    {
     "data": {
      "image/png": "[encoded data removed]",
      "text/plain": [
       "<Figure size 432x216 with 1 Axes>"
      ]
     },
     "metadata": {
      "needs_background": "light"
     },
     "output_type": "display_data"
    },
    {
     "data": {
      "image/png": "[encoded data removed]",
      "text/plain": [
       "<Figure size 432x216 with 1 Axes>"
      ]
     },
     "metadata": {
      "needs_background": "light"
     },
     "output_type": "display_data"
    }
   ],
   "source": [
    "for i in df.columns:                                ## Check for any outliers in the numeric data\n",
    "    if df[i].dtype=='float64':\n",
    "        plt.figure(figsize=(6,3))\n",
    "        sns.boxplot(df[i])\n",
    "        plt.show()"
   ]
  },
  {
   "cell_type": "code",
   "execution_count": 15,
   "id": "252befe5",
   "metadata": {},
   "outputs": [],
   "source": [
    "q1,q3 = np.percentile(df['SepalWidthCm'],[25,75])                  ## Treating outliers present in the SepalWidthCm column\n",
    "iqr = q3-q1\n",
    "lower_fence = q1 - (1.5*iqr)\n",
    "upper_fence = q3 + (1.5*iqr)\n",
    "df['SepalWidthCm'] = df['SepalWidthCm'].apply(lambda x: upper_fence if x>upper_fence \n",
    "                                                  else lower_fence if x<lower_fence else x)\n",
    "        \n"
   ]
  },
  {
   "cell_type": "code",
   "execution_count": 16,
   "id": "621e1712",
   "metadata": {},
   "outputs": [
    {
     "data": {
      "image/png": "[encoded data removed]",
      "text/plain": [
       "<Figure size 432x288 with 1 Axes>"
      ]
     },
     "metadata": {
      "needs_background": "light"
     },
     "output_type": "display_data"
    }
   ],
   "source": [
    "sns.boxplot(df['SepalWidthCm']);"
   ]
  },
  {
   "cell_type": "markdown",
   "id": "f3d4502e",
   "metadata": {},
   "source": [
    "### Normalizing data"
   ]
  },
  {
   "cell_type": "code",
   "execution_count": 17,
   "id": "d59109d8",
   "metadata": {},
   "outputs": [
    {
     "data": {
      "text/plain": [
       "array([[-1.72054204e+00, -9.00681170e-01,  1.06572221e+00,\n",
       "        -1.34127240e+00, -1.31297673e+00, -1.22474487e+00],\n",
       "       [-1.69744751e+00, -1.14301691e+00, -1.20170457e-01,\n",
       "        -1.34127240e+00, -1.31297673e+00, -1.22474487e+00],\n",
       "       [-1.67435299e+00, -1.38535265e+00,  3.54186609e-01,\n",
       "        -1.39813811e+00, -1.31297673e+00, -1.22474487e+00],\n",
       "       [-1.65125846e+00, -1.50652052e+00,  1.17008076e-01,\n",
       "        -1.28440670e+00, -1.31297673e+00, -1.22474487e+00],\n",
       "       [-1.62816394e+00, -1.02184904e+00,  1.30290074e+00,\n",
       "        -1.34127240e+00, -1.31297673e+00, -1.22474487e+00],\n",
       "       [-1.60506942e+00, -5.37177559e-01,  2.01443634e+00,\n",
       "        -1.17067529e+00, -1.05003079e+00, -1.22474487e+00],\n",
       "       [-1.58197489e+00, -1.50652052e+00,  8.28543675e-01,\n",
       "        -1.34127240e+00, -1.18150376e+00, -1.22474487e+00],\n",
       "       [-1.55888037e+00, -1.02184904e+00,  8.28543675e-01,\n",
       "        -1.28440670e+00, -1.31297673e+00, -1.22474487e+00],\n",
       "       [-1.53578584e+00, -1.74885626e+00, -3.57348990e-01,\n",
       "        -1.34127240e+00, -1.31297673e+00, -1.22474487e+00],\n",
       "       [-1.51269132e+00, -1.14301691e+00,  1.17008076e-01,\n",
       "        -1.28440670e+00, -1.44444970e+00, -1.22474487e+00],\n",
       "       [-1.48959680e+00, -5.37177559e-01,  1.54007927e+00,\n",
       "        -1.28440670e+00, -1.31297673e+00, -1.22474487e+00],\n",
       "       [-1.46650227e+00, -1.26418478e+00,  8.28543675e-01,\n",
       "        -1.22754100e+00, -1.31297673e+00, -1.22474487e+00],\n",
       "       [-1.44340775e+00, -1.26418478e+00, -1.20170457e-01,\n",
       "        -1.34127240e+00, -1.44444970e+00, -1.22474487e+00],\n",
       "       [-1.42031323e+00, -1.87002413e+00, -1.20170457e-01,\n",
       "        -1.51186952e+00, -1.44444970e+00, -1.22474487e+00],\n",
       "       [-1.39721870e+00, -5.25060772e-02,  2.25161487e+00,\n",
       "        -1.45500381e+00, -1.31297673e+00, -1.22474487e+00],\n",
       "       [-1.37412418e+00, -1.73673948e-01,  2.37020414e+00,\n",
       "        -1.28440670e+00, -1.05003079e+00, -1.22474487e+00],\n",
       "       [-1.35102965e+00, -5.37177559e-01,  2.01443634e+00,\n",
       "        -1.39813811e+00, -1.05003079e+00, -1.22474487e+00],\n",
       "       [-1.32793513e+00, -9.00681170e-01,  1.06572221e+00,\n",
       "        -1.34127240e+00, -1.18150376e+00, -1.22474487e+00],\n",
       "       [-1.30484061e+00, -1.73673948e-01,  1.77725781e+00,\n",
       "        -1.17067529e+00, -1.18150376e+00, -1.22474487e+00],\n",
       "       [-1.28174608e+00, -9.00681170e-01,  1.77725781e+00,\n",
       "        -1.28440670e+00, -1.18150376e+00, -1.22474487e+00],\n",
       "       [-1.25865156e+00, -5.37177559e-01,  8.28543675e-01,\n",
       "        -1.17067529e+00, -1.31297673e+00, -1.22474487e+00],\n",
       "       [-1.23555703e+00, -9.00681170e-01,  1.54007927e+00,\n",
       "        -1.28440670e+00, -1.05003079e+00, -1.22474487e+00],\n",
       "       [-1.21246251e+00, -1.50652052e+00,  1.30290074e+00,\n",
       "        -1.56873522e+00, -1.31297673e+00, -1.22474487e+00],\n",
       "       [-1.18936799e+00, -9.00681170e-01,  5.91365142e-01,\n",
       "        -1.17067529e+00, -9.18557817e-01, -1.22474487e+00],\n",
       "       [-1.16627346e+00, -1.26418478e+00,  8.28543675e-01,\n",
       "        -1.05694388e+00, -1.31297673e+00, -1.22474487e+00],\n",
       "       [-1.14317894e+00, -1.02184904e+00, -1.20170457e-01,\n",
       "        -1.22754100e+00, -1.31297673e+00, -1.22474487e+00],\n",
       "       [-1.12008441e+00, -1.02184904e+00,  8.28543675e-01,\n",
       "        -1.22754100e+00, -1.05003079e+00, -1.22474487e+00],\n",
       "       [-1.09698989e+00, -7.79513300e-01,  1.06572221e+00,\n",
       "        -1.28440670e+00, -1.31297673e+00, -1.22474487e+00],\n",
       "       [-1.07389537e+00, -7.79513300e-01,  8.28543675e-01,\n",
       "        -1.34127240e+00, -1.31297673e+00, -1.22474487e+00],\n",
       "       [-1.05080084e+00, -1.38535265e+00,  3.54186609e-01,\n",
       "        -1.22754100e+00, -1.31297673e+00, -1.22474487e+00],\n",
       "       [-1.02770632e+00, -1.26418478e+00,  1.17008076e-01,\n",
       "        -1.22754100e+00, -1.31297673e+00, -1.22474487e+00],\n",
       "       [-1.00461179e+00, -5.37177559e-01,  8.28543675e-01,\n",
       "        -1.28440670e+00, -1.05003079e+00, -1.22474487e+00],\n",
       "       [-9.81517269e-01, -7.79513300e-01,  2.37020414e+00,\n",
       "        -1.28440670e+00, -1.44444970e+00, -1.22474487e+00],\n",
       "       [-9.58422745e-01, -4.16009689e-01,  2.37020414e+00,\n",
       "        -1.34127240e+00, -1.31297673e+00, -1.22474487e+00],\n",
       "       [-9.35328221e-01, -1.14301691e+00,  1.17008076e-01,\n",
       "        -1.28440670e+00, -1.44444970e+00, -1.22474487e+00],\n",
       "       [-9.12233697e-01, -1.02184904e+00,  3.54186609e-01,\n",
       "        -1.45500381e+00, -1.31297673e+00, -1.22474487e+00],\n",
       "       [-8.89139173e-01, -4.16009689e-01,  1.06572221e+00,\n",
       "        -1.39813811e+00, -1.31297673e+00, -1.22474487e+00],\n",
       "       [-8.66044649e-01, -1.14301691e+00,  1.17008076e-01,\n",
       "        -1.28440670e+00, -1.44444970e+00, -1.22474487e+00],\n",
       "       [-8.42950125e-01, -1.74885626e+00, -1.20170457e-01,\n",
       "        -1.39813811e+00, -1.31297673e+00, -1.22474487e+00],\n",
       "       [-8.19855601e-01, -9.00681170e-01,  8.28543675e-01,\n",
       "        -1.28440670e+00, -1.31297673e+00, -1.22474487e+00],\n",
       "       [-7.96761077e-01, -1.02184904e+00,  1.06572221e+00,\n",
       "        -1.39813811e+00, -1.18150376e+00, -1.22474487e+00],\n",
       "       [-7.73666553e-01, -1.62768839e+00, -1.78042019e+00,\n",
       "        -1.39813811e+00, -1.18150376e+00, -1.22474487e+00],\n",
       "       [-7.50572030e-01, -1.74885626e+00,  3.54186609e-01,\n",
       "        -1.39813811e+00, -1.31297673e+00, -1.22474487e+00],\n",
       "       [-7.27477506e-01, -1.02184904e+00,  1.06572221e+00,\n",
       "        -1.22754100e+00, -7.87084847e-01, -1.22474487e+00],\n",
       "       [-7.04382982e-01, -9.00681170e-01,  1.77725781e+00,\n",
       "        -1.05694388e+00, -1.05003079e+00, -1.22474487e+00],\n",
       "       [-6.81288458e-01, -1.26418478e+00, -1.20170457e-01,\n",
       "        -1.34127240e+00, -1.18150376e+00, -1.22474487e+00],\n",
       "       [-6.58193934e-01, -9.00681170e-01,  1.77725781e+00,\n",
       "        -1.22754100e+00, -1.31297673e+00, -1.22474487e+00],\n",
       "       [-6.35099410e-01, -1.50652052e+00,  3.54186609e-01,\n",
       "        -1.34127240e+00, -1.31297673e+00, -1.22474487e+00],\n",
       "       [-6.12004886e-01, -6.58345429e-01,  1.54007927e+00,\n",
       "        -1.28440670e+00, -1.31297673e+00, -1.22474487e+00],\n",
       "       [-5.88910362e-01, -1.02184904e+00,  5.91365142e-01,\n",
       "        -1.34127240e+00, -1.31297673e+00, -1.22474487e+00],\n",
       "       [-5.65815838e-01,  1.40150837e+00,  3.54186609e-01,\n",
       "         5.35295827e-01,  2.64698913e-01,  0.00000000e+00],\n",
       "       [-5.42721314e-01,  6.74501145e-01,  3.54186609e-01,\n",
       "         4.21564419e-01,  3.96171883e-01,  0.00000000e+00],\n",
       "       [-5.19626790e-01,  1.28034050e+00,  1.17008076e-01,\n",
       "         6.49027235e-01,  3.96171883e-01,  0.00000000e+00],\n",
       "       [-4.96532266e-01, -4.16009689e-01, -1.78042019e+00,\n",
       "         1.37235899e-01,  1.33225943e-01,  0.00000000e+00],\n",
       "       [-4.73437742e-01,  7.95669016e-01, -5.94527523e-01,\n",
       "         4.78430123e-01,  3.96171883e-01,  0.00000000e+00],\n",
       "       [-4.50343218e-01, -1.73673948e-01, -5.94527523e-01,\n",
       "         4.21564419e-01,  1.33225943e-01,  0.00000000e+00],\n",
       "       [-4.27248694e-01,  5.53333275e-01,  5.91365142e-01,\n",
       "         5.35295827e-01,  5.27644853e-01,  0.00000000e+00],\n",
       "       [-4.04154170e-01, -1.14301691e+00, -1.54324165e+00,\n",
       "        -2.60824029e-01, -2.61192967e-01,  0.00000000e+00],\n",
       "       [-3.81059646e-01,  9.16836886e-01, -3.57348990e-01,\n",
       "         4.78430123e-01,  1.33225943e-01,  0.00000000e+00],\n",
       "       [-3.57965122e-01, -7.79513300e-01, -8.31706056e-01,\n",
       "         8.03701950e-02,  2.64698913e-01,  0.00000000e+00],\n",
       "       [-3.34870598e-01, -1.02184904e+00, -2.37336652e+00,\n",
       "        -1.47092621e-01, -2.61192967e-01,  0.00000000e+00],\n",
       "       [-3.11776074e-01,  6.86617933e-02, -1.20170457e-01,\n",
       "         2.50967307e-01,  3.96171883e-01,  0.00000000e+00],\n",
       "       [-2.88681550e-01,  1.89829664e-01, -2.01759872e+00,\n",
       "         1.37235899e-01, -2.61192967e-01,  0.00000000e+00],\n",
       "       [-2.65587026e-01,  3.10997534e-01, -3.57348990e-01,\n",
       "         5.35295827e-01,  2.64698913e-01,  0.00000000e+00],\n",
       "       [-2.42492502e-01, -2.94841818e-01, -3.57348990e-01,\n",
       "        -9.02269170e-02,  1.33225943e-01,  0.00000000e+00],\n",
       "       [-2.19397978e-01,  1.03800476e+00,  1.17008076e-01,\n",
       "         3.64698715e-01,  2.64698913e-01,  0.00000000e+00],\n",
       "       [-1.96303454e-01, -2.94841818e-01, -1.20170457e-01,\n",
       "         4.21564419e-01,  3.96171883e-01,  0.00000000e+00],\n",
       "       [-1.73208930e-01, -5.25060772e-02, -8.31706056e-01,\n",
       "         1.94101603e-01, -2.61192967e-01,  0.00000000e+00],\n",
       "       [-1.50114406e-01,  4.32165405e-01, -2.01759872e+00,\n",
       "         4.21564419e-01,  3.96171883e-01,  0.00000000e+00],\n",
       "       [-1.27019882e-01, -2.94841818e-01, -1.30606312e+00,\n",
       "         8.03701950e-02, -1.29719997e-01,  0.00000000e+00],\n",
       "       [-1.03925358e-01,  6.86617933e-02,  3.54186609e-01,\n",
       "         5.92161531e-01,  7.90590793e-01,  0.00000000e+00],\n",
       "       [-8.08308339e-02,  3.10997534e-01, -5.94527523e-01,\n",
       "         1.37235899e-01,  1.33225943e-01,  0.00000000e+00],\n",
       "       [-5.77363100e-02,  5.53333275e-01, -1.30606312e+00,\n",
       "         6.49027235e-01,  3.96171883e-01,  0.00000000e+00],\n",
       "       [-3.46417860e-02,  3.10997534e-01, -5.94527523e-01,\n",
       "         5.35295827e-01,  1.75297293e-03,  0.00000000e+00],\n",
       "       [-1.15472620e-02,  6.74501145e-01, -3.57348990e-01,\n",
       "         3.07833011e-01,  1.33225943e-01,  0.00000000e+00],\n",
       "       [ 1.15472620e-02,  9.16836886e-01, -1.20170457e-01,\n",
       "         3.64698715e-01,  2.64698913e-01,  0.00000000e+00],\n",
       "       [ 3.46417860e-02,  1.15917263e+00, -5.94527523e-01,\n",
       "         5.92161531e-01,  2.64698913e-01,  0.00000000e+00],\n",
       "       [ 5.77363100e-02,  1.03800476e+00, -1.20170457e-01,\n",
       "         7.05892939e-01,  6.59117823e-01,  0.00000000e+00],\n",
       "       [ 8.08308339e-02,  1.89829664e-01, -3.57348990e-01,\n",
       "         4.21564419e-01,  3.96171883e-01,  0.00000000e+00],\n",
       "       [ 1.03925358e-01, -1.73673948e-01, -1.06888459e+00,\n",
       "        -1.47092621e-01, -2.61192967e-01,  0.00000000e+00],\n",
       "       [ 1.27019882e-01, -4.16009689e-01, -1.54324165e+00,\n",
       "         2.35044910e-02, -1.29719997e-01,  0.00000000e+00],\n",
       "       [ 1.50114406e-01, -4.16009689e-01, -1.54324165e+00,\n",
       "        -3.33612130e-02, -2.61192967e-01,  0.00000000e+00],\n",
       "       [ 1.73208930e-01, -5.25060772e-02, -8.31706056e-01,\n",
       "         8.03701950e-02,  1.75297293e-03,  0.00000000e+00],\n",
       "       [ 1.96303454e-01,  1.89829664e-01, -8.31706056e-01,\n",
       "         7.62758643e-01,  5.27644853e-01,  0.00000000e+00],\n",
       "       [ 2.19397978e-01, -5.37177559e-01, -1.20170457e-01,\n",
       "         4.21564419e-01,  3.96171883e-01,  0.00000000e+00],\n",
       "       [ 2.42492502e-01,  1.89829664e-01,  8.28543675e-01,\n",
       "         4.21564419e-01,  5.27644853e-01,  0.00000000e+00],\n",
       "       [ 2.65587026e-01,  1.03800476e+00,  1.17008076e-01,\n",
       "         5.35295827e-01,  3.96171883e-01,  0.00000000e+00],\n",
       "       [ 2.88681550e-01,  5.53333275e-01, -1.78042019e+00,\n",
       "         3.64698715e-01,  1.33225943e-01,  0.00000000e+00],\n",
       "       [ 3.11776074e-01, -2.94841818e-01, -1.20170457e-01,\n",
       "         1.94101603e-01,  1.33225943e-01,  0.00000000e+00],\n",
       "       [ 3.34870598e-01, -4.16009689e-01, -1.30606312e+00,\n",
       "         1.37235899e-01,  1.33225943e-01,  0.00000000e+00],\n",
       "       [ 3.57965122e-01, -4.16009689e-01, -1.06888459e+00,\n",
       "         3.64698715e-01,  1.75297293e-03,  0.00000000e+00],\n",
       "       [ 3.81059646e-01,  3.10997534e-01, -1.20170457e-01,\n",
       "         4.78430123e-01,  2.64698913e-01,  0.00000000e+00],\n",
       "       [ 4.04154170e-01, -5.25060772e-02, -1.06888459e+00,\n",
       "         1.37235899e-01,  1.75297293e-03,  0.00000000e+00],\n",
       "       [ 4.27248694e-01, -1.02184904e+00, -1.78042019e+00,\n",
       "        -2.60824029e-01, -2.61192967e-01,  0.00000000e+00],\n",
       "       [ 4.50343218e-01, -2.94841818e-01, -8.31706056e-01,\n",
       "         2.50967307e-01,  1.33225943e-01,  0.00000000e+00],\n",
       "       [ 4.73437742e-01, -1.73673948e-01, -1.20170457e-01,\n",
       "         2.50967307e-01,  1.75297293e-03,  0.00000000e+00],\n",
       "       [ 4.96532266e-01, -1.73673948e-01, -3.57348990e-01,\n",
       "         2.50967307e-01,  1.33225943e-01,  0.00000000e+00],\n",
       "       [ 5.19626790e-01,  4.32165405e-01, -3.57348990e-01,\n",
       "         3.07833011e-01,  1.33225943e-01,  0.00000000e+00],\n",
       "       [ 5.42721314e-01, -9.00681170e-01, -1.30606312e+00,\n",
       "        -4.31421141e-01, -1.29719997e-01,  0.00000000e+00],\n",
       "       [ 5.65815838e-01, -1.73673948e-01, -5.94527523e-01,\n",
       "         1.94101603e-01,  1.33225943e-01,  0.00000000e+00],\n",
       "       [ 5.88910362e-01,  5.53333275e-01,  5.91365142e-01,\n",
       "         1.27454998e+00,  1.71090158e+00,  1.22474487e+00],\n",
       "       [ 6.12004886e-01, -5.25060772e-02, -8.31706056e-01,\n",
       "         7.62758643e-01,  9.22063763e-01,  1.22474487e+00],\n",
       "       [ 6.35099410e-01,  1.52267624e+00, -1.20170457e-01,\n",
       "         1.21768427e+00,  1.18500970e+00,  1.22474487e+00],\n",
       "       [ 6.58193934e-01,  5.53333275e-01, -3.57348990e-01,\n",
       "         1.04708716e+00,  7.90590793e-01,  1.22474487e+00],\n",
       "       [ 6.81288458e-01,  7.95669016e-01, -1.20170457e-01,\n",
       "         1.16081857e+00,  1.31648267e+00,  1.22474487e+00],\n",
       "       [ 7.04382982e-01,  2.12851559e+00, -1.20170457e-01,\n",
       "         1.61574420e+00,  1.18500970e+00,  1.22474487e+00],\n",
       "       [ 7.27477506e-01, -1.14301691e+00, -1.30606312e+00,\n",
       "         4.21564419e-01,  6.59117823e-01,  1.22474487e+00],\n",
       "       [ 7.50572030e-01,  1.76501198e+00, -3.57348990e-01,\n",
       "         1.44514709e+00,  7.90590793e-01,  1.22474487e+00],\n",
       "       [ 7.73666553e-01,  1.03800476e+00, -1.30606312e+00,\n",
       "         1.16081857e+00,  7.90590793e-01,  1.22474487e+00],\n",
       "       [ 7.96761077e-01,  1.64384411e+00,  1.30290074e+00,\n",
       "         1.33141568e+00,  1.71090158e+00,  1.22474487e+00],\n",
       "       [ 8.19855601e-01,  7.95669016e-01,  3.54186609e-01,\n",
       "         7.62758643e-01,  1.05353673e+00,  1.22474487e+00],\n",
       "       [ 8.42950125e-01,  6.74501145e-01, -8.31706056e-01,\n",
       "         8.76490051e-01,  9.22063763e-01,  1.22474487e+00],\n",
       "       [ 8.66044649e-01,  1.15917263e+00, -1.20170457e-01,\n",
       "         9.90221459e-01,  1.18500970e+00,  1.22474487e+00],\n",
       "       [ 8.89139173e-01, -1.73673948e-01, -1.30606312e+00,\n",
       "         7.05892939e-01,  1.05353673e+00,  1.22474487e+00],\n",
       "       [ 9.12233697e-01, -5.25060772e-02, -5.94527523e-01,\n",
       "         7.62758643e-01,  1.57942861e+00,  1.22474487e+00],\n",
       "       [ 9.35328221e-01,  6.74501145e-01,  3.54186609e-01,\n",
       "         8.76490051e-01,  1.44795564e+00,  1.22474487e+00],\n",
       "       [ 9.58422745e-01,  7.95669016e-01, -1.20170457e-01,\n",
       "         9.90221459e-01,  7.90590793e-01,  1.22474487e+00],\n",
       "       [ 9.81517269e-01,  2.24968346e+00,  1.77725781e+00,\n",
       "         1.67260991e+00,  1.31648267e+00,  1.22474487e+00],\n",
       "       [ 1.00461179e+00,  2.24968346e+00, -1.06888459e+00,\n",
       "         1.78634131e+00,  1.44795564e+00,  1.22474487e+00],\n",
       "       [ 1.02770632e+00,  1.89829664e-01, -2.01759872e+00,\n",
       "         7.05892939e-01,  3.96171883e-01,  1.22474487e+00],\n",
       "       [ 1.05080084e+00,  1.28034050e+00,  3.54186609e-01,\n",
       "         1.10395287e+00,  1.44795564e+00,  1.22474487e+00],\n",
       "       [ 1.07389537e+00, -2.94841818e-01, -5.94527523e-01,\n",
       "         6.49027235e-01,  1.05353673e+00,  1.22474487e+00],\n",
       "       [ 1.09698989e+00,  2.24968346e+00, -5.94527523e-01,\n",
       "         1.67260991e+00,  1.05353673e+00,  1.22474487e+00],\n",
       "       [ 1.12008441e+00,  5.53333275e-01, -8.31706056e-01,\n",
       "         6.49027235e-01,  7.90590793e-01,  1.22474487e+00],\n",
       "       [ 1.14317894e+00,  1.03800476e+00,  5.91365142e-01,\n",
       "         1.10395287e+00,  1.18500970e+00,  1.22474487e+00],\n",
       "       [ 1.16627346e+00,  1.64384411e+00,  3.54186609e-01,\n",
       "         1.27454998e+00,  7.90590793e-01,  1.22474487e+00],\n",
       "       [ 1.18936799e+00,  4.32165405e-01, -5.94527523e-01,\n",
       "         5.92161531e-01,  7.90590793e-01,  1.22474487e+00],\n",
       "       [ 1.21246251e+00,  3.10997534e-01, -1.20170457e-01,\n",
       "         6.49027235e-01,  7.90590793e-01,  1.22474487e+00],\n",
       "       [ 1.23555703e+00,  6.74501145e-01, -5.94527523e-01,\n",
       "         1.04708716e+00,  1.18500970e+00,  1.22474487e+00],\n",
       "       [ 1.25865156e+00,  1.64384411e+00, -1.20170457e-01,\n",
       "         1.16081857e+00,  5.27644853e-01,  1.22474487e+00],\n",
       "       [ 1.28174608e+00,  1.88617985e+00, -5.94527523e-01,\n",
       "         1.33141568e+00,  9.22063763e-01,  1.22474487e+00],\n",
       "       [ 1.30484061e+00,  2.49201920e+00,  1.77725781e+00,\n",
       "         1.50201279e+00,  1.05353673e+00,  1.22474487e+00],\n",
       "       [ 1.32793513e+00,  6.74501145e-01, -5.94527523e-01,\n",
       "         1.04708716e+00,  1.31648267e+00,  1.22474487e+00],\n",
       "       [ 1.35102965e+00,  5.53333275e-01, -5.94527523e-01,\n",
       "         7.62758643e-01,  3.96171883e-01,  1.22474487e+00],\n",
       "       [ 1.37412418e+00,  3.10997534e-01, -1.06888459e+00,\n",
       "         1.04708716e+00,  2.64698913e-01,  1.22474487e+00],\n",
       "       [ 1.39721870e+00,  2.24968346e+00, -1.20170457e-01,\n",
       "         1.33141568e+00,  1.44795564e+00,  1.22474487e+00],\n",
       "       [ 1.42031323e+00,  5.53333275e-01,  8.28543675e-01,\n",
       "         1.04708716e+00,  1.57942861e+00,  1.22474487e+00],\n",
       "       [ 1.44340775e+00,  6.74501145e-01,  1.17008076e-01,\n",
       "         9.90221459e-01,  7.90590793e-01,  1.22474487e+00],\n",
       "       [ 1.46650227e+00,  1.89829664e-01, -1.20170457e-01,\n",
       "         5.92161531e-01,  7.90590793e-01,  1.22474487e+00],\n",
       "       [ 1.48959680e+00,  1.28034050e+00,  1.17008076e-01,\n",
       "         9.33355755e-01,  1.18500970e+00,  1.22474487e+00],\n",
       "       [ 1.51269132e+00,  1.03800476e+00,  1.17008076e-01,\n",
       "         1.04708716e+00,  1.57942861e+00,  1.22474487e+00],\n",
       "       [ 1.53578584e+00,  1.28034050e+00,  1.17008076e-01,\n",
       "         7.62758643e-01,  1.44795564e+00,  1.22474487e+00],\n",
       "       [ 1.55888037e+00, -5.25060772e-02, -8.31706056e-01,\n",
       "         7.62758643e-01,  9.22063763e-01,  1.22474487e+00],\n",
       "       [ 1.58197489e+00,  1.15917263e+00,  3.54186609e-01,\n",
       "         1.21768427e+00,  1.44795564e+00,  1.22474487e+00],\n",
       "       [ 1.60506942e+00,  1.03800476e+00,  5.91365142e-01,\n",
       "         1.10395287e+00,  1.71090158e+00,  1.22474487e+00],\n",
       "       [ 1.62816394e+00,  1.03800476e+00, -1.20170457e-01,\n",
       "         8.19624347e-01,  1.44795564e+00,  1.22474487e+00],\n",
       "       [ 1.65125846e+00,  5.53333275e-01, -1.30606312e+00,\n",
       "         7.05892939e-01,  9.22063763e-01,  1.22474487e+00],\n",
       "       [ 1.67435299e+00,  7.95669016e-01, -1.20170457e-01,\n",
       "         8.19624347e-01,  1.05353673e+00,  1.22474487e+00],\n",
       "       [ 1.69744751e+00,  4.32165405e-01,  8.28543675e-01,\n",
       "         9.33355755e-01,  1.44795564e+00,  1.22474487e+00],\n",
       "       [ 1.72054204e+00,  6.86617933e-02, -1.20170457e-01,\n",
       "         7.62758643e-01,  7.90590793e-01,  1.22474487e+00]])"
      ]
     },
     "execution_count": 17,
     "metadata": {},
     "output_type": "execute_result"
    }
   ],
   "source": [
    "from sklearn.preprocessing import StandardScaler\n",
    "scaler = StandardScaler()\n",
    "scaled_df = scaler.fit_transform(df)\n",
    "\n",
    "scaled_df"
   ]
  },
  {
   "cell_type": "code",
   "execution_count": 18,
   "id": "7f68821b",
   "metadata": {},
   "outputs": [
    {
     "data": {
      "text/plain": [
       "array([0, 1, 2])"
      ]
     },
     "execution_count": 18,
     "metadata": {},
     "output_type": "execute_result"
    }
   ],
   "source": [
    "df.Species.unique()"
   ]
  },
  {
   "cell_type": "markdown",
   "id": "3ef2a35f",
   "metadata": {},
   "source": [
    "### Model building"
   ]
  },
  {
   "cell_type": "code",
   "execution_count": 19,
   "id": "f9946299",
   "metadata": {},
   "outputs": [],
   "source": [
    "from sklearn.cluster import AgglomerativeClustering\n",
    "hc = AgglomerativeClustering(n_clusters=4, affinity = 'euclidean', linkage = 'single')     # create clusters"
   ]
  },
  {
   "cell_type": "code",
   "execution_count": 20,
   "id": "54786ea2",
   "metadata": {},
   "outputs": [
    {
     "data": {
      "text/html": [
       "<div>\n",
       "<style scoped>\n",
       "    .dataframe tbody tr th:only-of-type {\n",
       "        vertical-align: middle;\n",
       "    }\n",
       "\n",
       "    .dataframe tbody tr th {\n",
       "        vertical-align: top;\n",
       "    }\n",
       "\n",
       "    .dataframe thead th {\n",
       "        text-align: right;\n",
       "    }\n",
       "</style>\n",
       "<table border=\"1\" class=\"dataframe\">\n",
       "  <thead>\n",
       "    <tr style=\"text-align: right;\">\n",
       "      <th></th>\n",
       "      <th>Clusters</th>\n",
       "    </tr>\n",
       "  </thead>\n",
       "  <tbody>\n",
       "    <tr>\n",
       "      <th>0</th>\n",
       "      <td>2</td>\n",
       "    </tr>\n",
       "    <tr>\n",
       "      <th>1</th>\n",
       "      <td>2</td>\n",
       "    </tr>\n",
       "    <tr>\n",
       "      <th>2</th>\n",
       "      <td>2</td>\n",
       "    </tr>\n",
       "    <tr>\n",
       "      <th>3</th>\n",
       "      <td>2</td>\n",
       "    </tr>\n",
       "    <tr>\n",
       "      <th>4</th>\n",
       "      <td>2</td>\n",
       "    </tr>\n",
       "    <tr>\n",
       "      <th>...</th>\n",
       "      <td>...</td>\n",
       "    </tr>\n",
       "    <tr>\n",
       "      <th>145</th>\n",
       "      <td>0</td>\n",
       "    </tr>\n",
       "    <tr>\n",
       "      <th>146</th>\n",
       "      <td>0</td>\n",
       "    </tr>\n",
       "    <tr>\n",
       "      <th>147</th>\n",
       "      <td>0</td>\n",
       "    </tr>\n",
       "    <tr>\n",
       "      <th>148</th>\n",
       "      <td>0</td>\n",
       "    </tr>\n",
       "    <tr>\n",
       "      <th>149</th>\n",
       "      <td>0</td>\n",
       "    </tr>\n",
       "  </tbody>\n",
       "</table>\n",
       "<p>150 rows × 1 columns</p>\n",
       "</div>"
      ],
      "text/plain": [
       "     Clusters\n",
       "0           2\n",
       "1           2\n",
       "2           2\n",
       "3           2\n",
       "4           2\n",
       "..        ...\n",
       "145         0\n",
       "146         0\n",
       "147         0\n",
       "148         0\n",
       "149         0\n",
       "\n",
       "[150 rows x 1 columns]"
      ]
     },
     "execution_count": 20,
     "metadata": {},
     "output_type": "execute_result"
    }
   ],
   "source": [
    "y_hc = hc.fit_predict(scaled_df)\n",
    "Clusters=pd.DataFrame(y_hc,columns=['Clusters'])\n",
    "Clusters"
   ]
  },
  {
   "cell_type": "markdown",
   "id": "06c051a0",
   "metadata": {},
   "source": [
    "### K-Means Clustering"
   ]
  },
  {
   "cell_type": "code",
   "execution_count": 21,
   "id": "077e1b9a",
   "metadata": {},
   "outputs": [],
   "source": [
    "from sklearn.cluster import KMeans"
   ]
  },
  {
   "cell_type": "code",
   "execution_count": 22,
   "id": "c5fb11c7",
   "metadata": {},
   "outputs": [
    {
     "data": {
      "image/png": "[encoded data removed]",
      "text/plain": [
       "<Figure size 432x288 with 1 Axes>"
      ]
     },
     "metadata": {
      "needs_background": "light"
     },
     "output_type": "display_data"
    }
   ],
   "source": [
    "wcss = []\n",
    "for i in range(1, 11):\n",
    "    kmeans = KMeans(n_clusters=i,random_state=0)\n",
    "    kmeans.fit(scaled_df)\n",
    "    wcss.append(kmeans.inertia_)\n",
    "    \n",
    "plt.plot(range(1, 11), wcss)\n",
    "plt.title('Elbow Method')\n",
    "plt.xlabel('Number of clusters')\n",
    "plt.ylabel('WCSS')\n",
    "plt.show()"
   ]
  },
  {
   "cell_type": "markdown",
   "id": "11535f87",
   "metadata": {},
   "source": [
    "You can clearly see why it is called 'The elbow method' from the above graph, the optimum clusters is where the elbow occurs. This is when the within cluster sum of squares (WCSS) doesn't decrease significantly with every iteration."
   ]
  },
  {
   "cell_type": "code",
   "execution_count": 23,
   "id": "7b56c3e9",
   "metadata": {},
   "outputs": [
    {
     "data": {
      "text/plain": [
       "[900.0,\n",
       " 310.8682121687612,\n",
       " 181.54344154319438,\n",
       " 152.29138661927385,\n",
       " 126.41849135263675,\n",
       " 100.64231252926913,\n",
       " 90.38564639861254,\n",
       " 81.77573982042212,\n",
       " 73.44750417804634,\n",
       " 64.9191379322433]"
      ]
     },
     "execution_count": 23,
     "metadata": {},
     "output_type": "execute_result"
    }
   ],
   "source": [
    "wcss"
   ]
  },
  {
   "cell_type": "code",
   "execution_count": 24,
   "id": "7d0381f9",
   "metadata": {},
   "outputs": [
    {
     "data": {
      "text/plain": [
       "KMeans(max_iter=500, n_clusters=3, random_state=42)"
      ]
     },
     "execution_count": 24,
     "metadata": {},
     "output_type": "execute_result"
    }
   ],
   "source": [
    "clusters_new = KMeans(3, max_iter=500, algorithm='auto', random_state=42)       #Build Cluster algorithm\n",
    "clusters_new.fit(scaled_df)"
   ]
  },
  {
   "cell_type": "code",
   "execution_count": 25,
   "id": "dda52885",
   "metadata": {},
   "outputs": [
    {
     "data": {
      "text/plain": [
       "array([1, 1, 1, 1, 1, 1, 1, 1, 1, 1, 1, 1, 1, 1, 1, 1, 1, 1, 1, 1, 1, 1,\n",
       "       1, 1, 1, 1, 1, 1, 1, 1, 1, 1, 1, 1, 1, 1, 1, 1, 1, 1, 1, 1, 1, 1,\n",
       "       1, 1, 1, 1, 1, 1, 2, 2, 2, 2, 2, 2, 2, 2, 2, 2, 2, 2, 2, 2, 2, 2,\n",
       "       2, 2, 2, 2, 2, 2, 2, 2, 2, 2, 2, 2, 2, 2, 2, 2, 2, 2, 2, 2, 2, 2,\n",
       "       2, 2, 2, 2, 2, 2, 2, 2, 2, 2, 2, 2, 0, 0, 0, 0, 0, 0, 2, 0, 0, 0,\n",
       "       0, 0, 0, 0, 0, 0, 0, 0, 0, 2, 0, 0, 0, 0, 0, 0, 0, 0, 0, 0, 0, 0,\n",
       "       0, 0, 0, 0, 0, 0, 0, 0, 0, 0, 0, 0, 0, 0, 0, 0, 0, 0])"
      ]
     },
     "execution_count": 25,
     "metadata": {},
     "output_type": "execute_result"
    }
   ],
   "source": [
    "clusters_new.labels_"
   ]
  },
  {
   "cell_type": "code",
   "execution_count": 26,
   "id": "7747b7e5",
   "metadata": {},
   "outputs": [],
   "source": [
    "df['clusterid_new'] = clusters_new.labels_                                    #Assign clusters to the data set"
   ]
  },
  {
   "cell_type": "code",
   "execution_count": 27,
   "id": "759dbb16",
   "metadata": {},
   "outputs": [
    {
     "data": {
      "text/plain": [
       "array([[ 1.16627346,  0.95975051, -0.12017046,  1.03879425,  1.11105616,\n",
       "         1.22474487],\n",
       "       [-1.1547262 , -1.01457897,  0.84514617, -1.30487835, -1.25512862,\n",
       "        -1.22474487],\n",
       "       [ 0.03375354,  0.08963316, -0.70171397,  0.29580373,  0.18126414,\n",
       "         0.04710557]])"
      ]
     },
     "execution_count": 27,
     "metadata": {},
     "output_type": "execute_result"
    }
   ],
   "source": [
    "clusters_new.cluster_centers_"
   ]
  },
  {
   "cell_type": "code",
   "execution_count": 28,
   "id": "bf87b5af",
   "metadata": {},
   "outputs": [
    {
     "data": {
      "text/html": [
       "<div>\n",
       "<style scoped>\n",
       "    .dataframe tbody tr th:only-of-type {\n",
       "        vertical-align: middle;\n",
       "    }\n",
       "\n",
       "    .dataframe tbody tr th {\n",
       "        vertical-align: top;\n",
       "    }\n",
       "\n",
       "    .dataframe thead tr th {\n",
       "        text-align: left;\n",
       "    }\n",
       "</style>\n",
       "<table border=\"1\" class=\"dataframe\">\n",
       "  <thead>\n",
       "    <tr>\n",
       "      <th></th>\n",
       "      <th>clusterid_new</th>\n",
       "      <th>Id</th>\n",
       "      <th>SepalLengthCm</th>\n",
       "      <th>SepalWidthCm</th>\n",
       "      <th>PetalLengthCm</th>\n",
       "      <th>PetalWidthCm</th>\n",
       "      <th>Species</th>\n",
       "    </tr>\n",
       "    <tr>\n",
       "      <th></th>\n",
       "      <th></th>\n",
       "      <th>mean</th>\n",
       "      <th>mean</th>\n",
       "      <th>mean</th>\n",
       "      <th>mean</th>\n",
       "      <th>mean</th>\n",
       "      <th>mean</th>\n",
       "    </tr>\n",
       "  </thead>\n",
       "  <tbody>\n",
       "    <tr>\n",
       "      <th>0</th>\n",
       "      <td>0</td>\n",
       "      <td>126.000000</td>\n",
       "      <td>6.635417</td>\n",
       "      <td>3.000000</td>\n",
       "      <td>5.585417</td>\n",
       "      <td>2.043750</td>\n",
       "      <td>2.000000</td>\n",
       "    </tr>\n",
       "    <tr>\n",
       "      <th>1</th>\n",
       "      <td>1</td>\n",
       "      <td>25.500000</td>\n",
       "      <td>5.006000</td>\n",
       "      <td>3.407000</td>\n",
       "      <td>1.464000</td>\n",
       "      <td>0.244000</td>\n",
       "      <td>0.000000</td>\n",
       "    </tr>\n",
       "    <tr>\n",
       "      <th>2</th>\n",
       "      <td>2</td>\n",
       "      <td>76.961538</td>\n",
       "      <td>5.917308</td>\n",
       "      <td>2.754808</td>\n",
       "      <td>4.278846</td>\n",
       "      <td>1.336538</td>\n",
       "      <td>1.038462</td>\n",
       "    </tr>\n",
       "  </tbody>\n",
       "</table>\n",
       "</div>"
      ],
      "text/plain": [
       "  clusterid_new          Id SepalLengthCm SepalWidthCm PetalLengthCm  \\\n",
       "                       mean          mean         mean          mean   \n",
       "0             0  126.000000      6.635417     3.000000      5.585417   \n",
       "1             1   25.500000      5.006000     3.407000      1.464000   \n",
       "2             2   76.961538      5.917308     2.754808      4.278846   \n",
       "\n",
       "  PetalWidthCm   Species  \n",
       "          mean      mean  \n",
       "0     2.043750  2.000000  \n",
       "1     0.244000  0.000000  \n",
       "2     1.336538  1.038462  "
      ]
     },
     "execution_count": 28,
     "metadata": {},
     "output_type": "execute_result"
    }
   ],
   "source": [
    "df.groupby('clusterid_new').agg(['mean']).reset_index()"
   ]
  },
  {
   "cell_type": "code",
   "execution_count": 29,
   "id": "116e5bf5",
   "metadata": {},
   "outputs": [
    {
     "data": {
      "text/html": [
       "<div>\n",
       "<style scoped>\n",
       "    .dataframe tbody tr th:only-of-type {\n",
       "        vertical-align: middle;\n",
       "    }\n",
       "\n",
       "    .dataframe tbody tr th {\n",
       "        vertical-align: top;\n",
       "    }\n",
       "\n",
       "    .dataframe thead th {\n",
       "        text-align: right;\n",
       "    }\n",
       "</style>\n",
       "<table border=\"1\" class=\"dataframe\">\n",
       "  <thead>\n",
       "    <tr style=\"text-align: right;\">\n",
       "      <th></th>\n",
       "      <th>Id</th>\n",
       "      <th>SepalLengthCm</th>\n",
       "      <th>SepalWidthCm</th>\n",
       "      <th>PetalLengthCm</th>\n",
       "      <th>PetalWidthCm</th>\n",
       "      <th>Species</th>\n",
       "      <th>clusterid_new</th>\n",
       "    </tr>\n",
       "  </thead>\n",
       "  <tbody>\n",
       "    <tr>\n",
       "      <th>0</th>\n",
       "      <td>1</td>\n",
       "      <td>5.1</td>\n",
       "      <td>3.5</td>\n",
       "      <td>1.4</td>\n",
       "      <td>0.2</td>\n",
       "      <td>0</td>\n",
       "      <td>1</td>\n",
       "    </tr>\n",
       "    <tr>\n",
       "      <th>1</th>\n",
       "      <td>2</td>\n",
       "      <td>4.9</td>\n",
       "      <td>3.0</td>\n",
       "      <td>1.4</td>\n",
       "      <td>0.2</td>\n",
       "      <td>0</td>\n",
       "      <td>1</td>\n",
       "    </tr>\n",
       "    <tr>\n",
       "      <th>2</th>\n",
       "      <td>3</td>\n",
       "      <td>4.7</td>\n",
       "      <td>3.2</td>\n",
       "      <td>1.3</td>\n",
       "      <td>0.2</td>\n",
       "      <td>0</td>\n",
       "      <td>1</td>\n",
       "    </tr>\n",
       "    <tr>\n",
       "      <th>3</th>\n",
       "      <td>4</td>\n",
       "      <td>4.6</td>\n",
       "      <td>3.1</td>\n",
       "      <td>1.5</td>\n",
       "      <td>0.2</td>\n",
       "      <td>0</td>\n",
       "      <td>1</td>\n",
       "    </tr>\n",
       "    <tr>\n",
       "      <th>4</th>\n",
       "      <td>5</td>\n",
       "      <td>5.0</td>\n",
       "      <td>3.6</td>\n",
       "      <td>1.4</td>\n",
       "      <td>0.2</td>\n",
       "      <td>0</td>\n",
       "      <td>1</td>\n",
       "    </tr>\n",
       "    <tr>\n",
       "      <th>...</th>\n",
       "      <td>...</td>\n",
       "      <td>...</td>\n",
       "      <td>...</td>\n",
       "      <td>...</td>\n",
       "      <td>...</td>\n",
       "      <td>...</td>\n",
       "      <td>...</td>\n",
       "    </tr>\n",
       "    <tr>\n",
       "      <th>145</th>\n",
       "      <td>146</td>\n",
       "      <td>6.7</td>\n",
       "      <td>3.0</td>\n",
       "      <td>5.2</td>\n",
       "      <td>2.3</td>\n",
       "      <td>2</td>\n",
       "      <td>0</td>\n",
       "    </tr>\n",
       "    <tr>\n",
       "      <th>146</th>\n",
       "      <td>147</td>\n",
       "      <td>6.3</td>\n",
       "      <td>2.5</td>\n",
       "      <td>5.0</td>\n",
       "      <td>1.9</td>\n",
       "      <td>2</td>\n",
       "      <td>0</td>\n",
       "    </tr>\n",
       "    <tr>\n",
       "      <th>147</th>\n",
       "      <td>148</td>\n",
       "      <td>6.5</td>\n",
       "      <td>3.0</td>\n",
       "      <td>5.2</td>\n",
       "      <td>2.0</td>\n",
       "      <td>2</td>\n",
       "      <td>0</td>\n",
       "    </tr>\n",
       "    <tr>\n",
       "      <th>148</th>\n",
       "      <td>149</td>\n",
       "      <td>6.2</td>\n",
       "      <td>3.4</td>\n",
       "      <td>5.4</td>\n",
       "      <td>2.3</td>\n",
       "      <td>2</td>\n",
       "      <td>0</td>\n",
       "    </tr>\n",
       "    <tr>\n",
       "      <th>149</th>\n",
       "      <td>150</td>\n",
       "      <td>5.9</td>\n",
       "      <td>3.0</td>\n",
       "      <td>5.1</td>\n",
       "      <td>1.8</td>\n",
       "      <td>2</td>\n",
       "      <td>0</td>\n",
       "    </tr>\n",
       "  </tbody>\n",
       "</table>\n",
       "<p>150 rows × 7 columns</p>\n",
       "</div>"
      ],
      "text/plain": [
       "      Id  SepalLengthCm  SepalWidthCm  PetalLengthCm  PetalWidthCm  Species  \\\n",
       "0      1            5.1           3.5            1.4           0.2        0   \n",
       "1      2            4.9           3.0            1.4           0.2        0   \n",
       "2      3            4.7           3.2            1.3           0.2        0   \n",
       "3      4            4.6           3.1            1.5           0.2        0   \n",
       "4      5            5.0           3.6            1.4           0.2        0   \n",
       "..   ...            ...           ...            ...           ...      ...   \n",
       "145  146            6.7           3.0            5.2           2.3        2   \n",
       "146  147            6.3           2.5            5.0           1.9        2   \n",
       "147  148            6.5           3.0            5.2           2.0        2   \n",
       "148  149            6.2           3.4            5.4           2.3        2   \n",
       "149  150            5.9           3.0            5.1           1.8        2   \n",
       "\n",
       "     clusterid_new  \n",
       "0                1  \n",
       "1                1  \n",
       "2                1  \n",
       "3                1  \n",
       "4                1  \n",
       "..             ...  \n",
       "145              0  \n",
       "146              0  \n",
       "147              0  \n",
       "148              0  \n",
       "149              0  \n",
       "\n",
       "[150 rows x 7 columns]"
      ]
     },
     "execution_count": 29,
     "metadata": {},
     "output_type": "execute_result"
    }
   ],
   "source": [
    "df"
   ]
  },
  {
   "cell_type": "code",
   "execution_count": 30,
   "id": "99c6cdb0",
   "metadata": {},
   "outputs": [],
   "source": [
    "kmeans = KMeans(n_clusters = 3, init = 'k-means++',                           # Creating the kmeans classifier\n",
    "                max_iter = 300, n_init = 10, random_state = 42)\n",
    "y_kmeans = kmeans.fit_predict(scaled_df)"
   ]
  },
  {
   "cell_type": "code",
   "execution_count": 31,
   "id": "87f59dda",
   "metadata": {},
   "outputs": [
    {
     "data": {
      "text/plain": [
       "array([1, 1, 1, 1, 1, 1, 1, 1, 1, 1, 1, 1, 1, 1, 1, 1, 1, 1, 1, 1, 1, 1,\n",
       "       1, 1, 1, 1, 1, 1, 1, 1, 1, 1, 1, 1, 1, 1, 1, 1, 1, 1, 1, 1, 1, 1,\n",
       "       1, 1, 1, 1, 1, 1, 2, 2, 2, 2, 2, 2, 2, 2, 2, 2, 2, 2, 2, 2, 2, 2,\n",
       "       2, 2, 2, 2, 2, 2, 2, 2, 2, 2, 2, 2, 2, 2, 2, 2, 2, 2, 2, 2, 2, 2,\n",
       "       2, 2, 2, 2, 2, 2, 2, 2, 2, 2, 2, 2, 0, 0, 0, 0, 0, 0, 2, 0, 0, 0,\n",
       "       0, 0, 0, 0, 0, 0, 0, 0, 0, 2, 0, 0, 0, 0, 0, 0, 0, 0, 0, 0, 0, 0,\n",
       "       0, 0, 0, 0, 0, 0, 0, 0, 0, 0, 0, 0, 0, 0, 0, 0, 0, 0])"
      ]
     },
     "execution_count": 31,
     "metadata": {},
     "output_type": "execute_result"
    }
   ],
   "source": [
    "y_kmeans"
   ]
  },
  {
   "cell_type": "code",
   "execution_count": 32,
   "id": "edb4c30f",
   "metadata": {},
   "outputs": [
    {
     "data": {
      "image/png": "[encoded data removed]",
      "text/plain": [
       "<Figure size 720x360 with 2 Axes>"
      ]
     },
     "metadata": {
      "needs_background": "light"
     },
     "output_type": "display_data"
    }
   ],
   "source": [
    "plt.figure(figsize=(10,5))\n",
    "sns.heatmap(abs(df.corr()), cmap='GnBu', annot=True);"
   ]
  },
  {
   "cell_type": "code",
   "execution_count": 33,
   "id": "13baf48e",
   "metadata": {},
   "outputs": [
    {
     "data": {
      "text/plain": [
       "<matplotlib.legend.Legend at 0x11f5b0c31c0>"
      ]
     },
     "execution_count": 33,
     "metadata": {},
     "output_type": "execute_result"
    },
    {
     "data": {
      "image/png": "[encoded data removed]",
      "text/plain": [
       "<Figure size 432x288 with 1 Axes>"
      ]
     },
     "metadata": {
      "needs_background": "light"
     },
     "output_type": "display_data"
    }
   ],
   "source": [
    "plt.scatter(scaled_df[y_kmeans == 0, 0], scaled_df[y_kmeans == 0, 1],          # Visualising the clusters - On the first two columns\n",
    "            s = 100, c = 'red', label = 'Iris-setosa')\n",
    "plt.scatter(scaled_df[y_kmeans == 1, 0], scaled_df[y_kmeans == 1, 1], \n",
    "            s = 100, c = 'blue', label = 'Iris-versicolour')\n",
    "plt.scatter(scaled_df[y_kmeans == 2, 0], scaled_df[y_kmeans == 2, 1],\n",
    "            s = 100, c = 'green', label = 'Iris-virginica')\n",
    "\n",
    "\n",
    "plt.scatter(kmeans.cluster_centers_[:, 0], kmeans.cluster_centers_[:,1],       # Plotting the centroids of the clusters\n",
    "            s = 100, c = 'yellow', label = 'Centroids')\n",
    "\n",
    "plt.legend()"
   ]
  },
  {
   "cell_type": "markdown",
   "id": "f251f524",
   "metadata": {},
   "source": [
    "****"
   ]
  }
 ],
 "metadata": {
  "kernelspec": {
   "display_name": "Python 3 (ipykernel)",
   "language": "python",
   "name": "python3"
  },
  "language_info": {
   "codemirror_mode": {
    "name": "ipython",
    "version": 3
   },
   "file_extension": ".py",
   "mimetype": "text/x-python",
   "name": "python",
   "nbconvert_exporter": "python",
   "pygments_lexer": "ipython3",
   "version": "3.9.12"
  }
 },
 "nbformat": 4,
 "nbformat_minor": 5
}
